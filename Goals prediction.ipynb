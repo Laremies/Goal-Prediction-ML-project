{
 "cells": [
  {
   "cell_type": "code",
   "execution_count": 1,
   "id": "dadb695d",
   "metadata": {},
   "outputs": [],
   "source": [
    "%config Completer.use_jedi = False  # enable code auto-completion\n",
    "import numpy as np\n",
    "import pandas as pd\n",
    "import matplotlib.pyplot as plt\n",
    "from sklearn.metrics import accuracy_score\n",
    "from sklearn.preprocessing import PolynomialFeatures   \n",
    "from sklearn.linear_model import LinearRegression   \n",
    "from sklearn.metrics import mean_squared_error\n",
    "from sklearn.model_selection import train_test_split"
   ]
  },
  {
   "cell_type": "code",
   "execution_count": 2,
   "id": "6d32d5fc",
   "metadata": {
    "scrolled": true
   },
   "outputs": [
    {
     "data": {
      "text/html": [
       "<div>\n",
       "<style scoped>\n",
       "    .dataframe tbody tr th:only-of-type {\n",
       "        vertical-align: middle;\n",
       "    }\n",
       "\n",
       "    .dataframe tbody tr th {\n",
       "        vertical-align: top;\n",
       "    }\n",
       "\n",
       "    .dataframe thead th {\n",
       "        text-align: right;\n",
       "    }\n",
       "</style>\n",
       "<table border=\"1\" class=\"dataframe\">\n",
       "  <thead>\n",
       "    <tr style=\"text-align: right;\">\n",
       "      <th></th>\n",
       "      <th>Name</th>\n",
       "      <th>Position</th>\n",
       "      <th>Team</th>\n",
       "      <th>90s</th>\n",
       "      <th>Goals</th>\n",
       "      <th>Shots</th>\n",
       "      <th>Shots on target</th>\n",
       "      <th>Shots/90</th>\n",
       "      <th>Shots on target/90</th>\n",
       "    </tr>\n",
       "  </thead>\n",
       "  <tbody>\n",
       "    <tr>\n",
       "      <th>5</th>\n",
       "      <td>Dickson Abiama</td>\n",
       "      <td>FW</td>\n",
       "      <td>Greuther Fürth</td>\n",
       "      <td>8.1</td>\n",
       "      <td>0</td>\n",
       "      <td>18</td>\n",
       "      <td>4</td>\n",
       "      <td>2.23</td>\n",
       "      <td>0.50</td>\n",
       "    </tr>\n",
       "    <tr>\n",
       "      <th>6</th>\n",
       "      <td>Matthis Abline</td>\n",
       "      <td>FW</td>\n",
       "      <td>Rennes</td>\n",
       "      <td>1.1</td>\n",
       "      <td>0</td>\n",
       "      <td>2</td>\n",
       "      <td>0</td>\n",
       "      <td>1.75</td>\n",
       "      <td>0.00</td>\n",
       "    </tr>\n",
       "    <tr>\n",
       "      <th>7</th>\n",
       "      <td>Tammy Abraham</td>\n",
       "      <td>FW</td>\n",
       "      <td>Roma</td>\n",
       "      <td>34.3</td>\n",
       "      <td>17</td>\n",
       "      <td>93</td>\n",
       "      <td>32</td>\n",
       "      <td>2.71</td>\n",
       "      <td>0.93</td>\n",
       "    </tr>\n",
       "    <tr>\n",
       "      <th>13</th>\n",
       "      <td>Che Adams</td>\n",
       "      <td>FW</td>\n",
       "      <td>Southampton</td>\n",
       "      <td>22.7</td>\n",
       "      <td>7</td>\n",
       "      <td>49</td>\n",
       "      <td>24</td>\n",
       "      <td>2.16</td>\n",
       "      <td>1.06</td>\n",
       "    </tr>\n",
       "    <tr>\n",
       "      <th>15</th>\n",
       "      <td>Sargis Adamyan</td>\n",
       "      <td>FWMF</td>\n",
       "      <td>Hoffenheim</td>\n",
       "      <td>3.7</td>\n",
       "      <td>1</td>\n",
       "      <td>3</td>\n",
       "      <td>2</td>\n",
       "      <td>0.82</td>\n",
       "      <td>0.54</td>\n",
       "    </tr>\n",
       "    <tr>\n",
       "      <th>...</th>\n",
       "      <td>...</td>\n",
       "      <td>...</td>\n",
       "      <td>...</td>\n",
       "      <td>...</td>\n",
       "      <td>...</td>\n",
       "      <td>...</td>\n",
       "      <td>...</td>\n",
       "      <td>...</td>\n",
       "      <td>...</td>\n",
       "    </tr>\n",
       "    <tr>\n",
       "      <th>2897</th>\n",
       "      <td>Simone Zaza</td>\n",
       "      <td>FWMF</td>\n",
       "      <td>Torino</td>\n",
       "      <td>1.4</td>\n",
       "      <td>0</td>\n",
       "      <td>9</td>\n",
       "      <td>3</td>\n",
       "      <td>6.28</td>\n",
       "      <td>2.09</td>\n",
       "    </tr>\n",
       "    <tr>\n",
       "      <th>2901</th>\n",
       "      <td>Arber Zeneli</td>\n",
       "      <td>FW</td>\n",
       "      <td>Reims</td>\n",
       "      <td>4.5</td>\n",
       "      <td>2</td>\n",
       "      <td>11</td>\n",
       "      <td>3</td>\n",
       "      <td>2.42</td>\n",
       "      <td>0.66</td>\n",
       "    </tr>\n",
       "    <tr>\n",
       "      <th>2903</th>\n",
       "      <td>Andi Zeqiri</td>\n",
       "      <td>FWMF</td>\n",
       "      <td>Augsburg</td>\n",
       "      <td>11.3</td>\n",
       "      <td>2</td>\n",
       "      <td>32</td>\n",
       "      <td>9</td>\n",
       "      <td>2.83</td>\n",
       "      <td>0.80</td>\n",
       "    </tr>\n",
       "    <tr>\n",
       "      <th>2911</th>\n",
       "      <td>Hakim Ziyech</td>\n",
       "      <td>FWMF</td>\n",
       "      <td>Chelsea</td>\n",
       "      <td>14.7</td>\n",
       "      <td>4</td>\n",
       "      <td>53</td>\n",
       "      <td>19</td>\n",
       "      <td>3.62</td>\n",
       "      <td>1.30</td>\n",
       "    </tr>\n",
       "    <tr>\n",
       "      <th>2913</th>\n",
       "      <td>Simon Zoller</td>\n",
       "      <td>FW</td>\n",
       "      <td>Bochum</td>\n",
       "      <td>6.6</td>\n",
       "      <td>3</td>\n",
       "      <td>11</td>\n",
       "      <td>7</td>\n",
       "      <td>1.66</td>\n",
       "      <td>1.06</td>\n",
       "    </tr>\n",
       "  </tbody>\n",
       "</table>\n",
       "<p>615 rows × 9 columns</p>\n",
       "</div>"
      ],
      "text/plain": [
       "                Name Position            Team   90s  Goals  Shots  \\\n",
       "5     Dickson Abiama       FW  Greuther Fürth   8.1      0     18   \n",
       "6     Matthis Abline       FW          Rennes   1.1      0      2   \n",
       "7      Tammy Abraham       FW            Roma  34.3     17     93   \n",
       "13         Che Adams       FW     Southampton  22.7      7     49   \n",
       "15    Sargis Adamyan     FWMF      Hoffenheim   3.7      1      3   \n",
       "...              ...      ...             ...   ...    ...    ...   \n",
       "2897     Simone Zaza     FWMF          Torino   1.4      0      9   \n",
       "2901    Arber Zeneli       FW           Reims   4.5      2     11   \n",
       "2903     Andi Zeqiri     FWMF        Augsburg  11.3      2     32   \n",
       "2911    Hakim Ziyech     FWMF         Chelsea  14.7      4     53   \n",
       "2913    Simon Zoller       FW          Bochum   6.6      3     11   \n",
       "\n",
       "      Shots on target  Shots/90  Shots on target/90  \n",
       "5                   4      2.23                0.50  \n",
       "6                   0      1.75                0.00  \n",
       "7                  32      2.71                0.93  \n",
       "13                 24      2.16                1.06  \n",
       "15                  2      0.82                0.54  \n",
       "...               ...       ...                 ...  \n",
       "2897                3      6.28                2.09  \n",
       "2901                3      2.42                0.66  \n",
       "2903                9      2.83                0.80  \n",
       "2911               19      3.62                1.30  \n",
       "2913                7      1.66                1.06  \n",
       "\n",
       "[615 rows x 9 columns]"
      ]
     },
     "execution_count": 2,
     "metadata": {},
     "output_type": "execute_result"
    }
   ],
   "source": [
    "df = pd.read_csv('Football_player_statistics.csv')\n",
    "\n",
    "# dropping unnecessary columns from the dataset\n",
    "df.drop(columns=['Nation', 'Rk', 'Comp', 'Age', 'Born', 'FK','PK','PKatt','xG','npxG','npxG/Sh','SoT%',\n",
    "                'G/Sh','G/SoT','Dist','G-xG','np:G-xG','Matches', '-9999'], inplace=True)\n",
    "\n",
    "# renaming the columns\n",
    "df.columns=['Name','Position','Team','90s','Goals','Shots','Shots on target',\n",
    "            'Shots/90', 'Shots on target/90']\n",
    "\n",
    "# drop player who aren't mainly strikers\n",
    "df = df[df['Position'].astype(str).str[0] == 'F']\n",
    "# drop strikers who haven't played a full 90 minutes during the season or taken a shot\n",
    "df = df[df['90s'] >= 1]\n",
    "df = df[df['Shots'] != 0]\n",
    "\n",
    "\n",
    "df"
   ]
  },
  {
   "cell_type": "code",
   "execution_count": 3,
   "id": "bf0569ae",
   "metadata": {},
   "outputs": [],
   "source": [
    "# features\n",
    "X = df[['Shots', 'Shots on target']].to_numpy().reshape(-1, 2)\n",
    "# label\n",
    "y = df['Goals'].to_numpy()\n",
    "\n",
    "X_train, X_val_train, y_train, y_val_train = train_test_split(X, y, test_size=0.4,\n",
    "                                                  random_state=42)\n",
    "X_val, X_test, y_val, y_test = train_test_split(X_val_train, y_val_train, test_size=0.5,\n",
    "                                                  random_state=42)"
   ]
  },
  {
   "cell_type": "code",
   "execution_count": 4,
   "id": "536b8e04",
   "metadata": {},
   "outputs": [
    {
     "name": "stdout",
     "output_type": "stream",
     "text": [
      "4.71525332599386\n",
      "3.345374792479929\n"
     ]
    }
   ],
   "source": [
    "# linear regression\n",
    "regr = LinearRegression()\n",
    "\n",
    "# training set\n",
    "regr.fit(X_train, y_train)\n",
    "y_train_pred = regr.predict(X_train)\n",
    "tr_error = mean_squared_error(y_train, y_train_pred)\n",
    "\n",
    "# validation set\n",
    "regr.fit(X_val, y_val)\n",
    "y_val_pred = regr.predict(X_val)\n",
    "val_error = mean_squared_error(y_val, y_val_pred)\n",
    "\n",
    "print(tr_error)\n",
    "print(val_error)"
   ]
  },
  {
   "cell_type": "code",
   "execution_count": 5,
   "id": "9ab084e5",
   "metadata": {
    "scrolled": true
   },
   "outputs": [
    {
     "data": {
      "image/png": "[encoded data removed]",
      "text/plain": [
       "<Figure size 432x288 with 1 Axes>"
      ]
     },
     "metadata": {
      "needs_background": "light"
     },
     "output_type": "display_data"
    }
   ],
   "source": [
    "# table for linear\n",
    "\n",
    "data =  [\n",
    "            [                 'Training error', 'Validation error'],\n",
    "            ['Linear regression',  f\"{tr_error}\", f\"{val_error}\"]\n",
    "        ]\n",
    "\n",
    "# Pop the headers from the data array\n",
    "column_headers = data.pop(0)\n",
    "row_headers = [x.pop(0) for x in data]\n",
    "\n",
    "# Add a table at the bottom of the axes\n",
    "the_table = plt.table(cellText=data,\n",
    "                      rowLabels=row_headers,\n",
    "                      rowLoc='right',\n",
    "                      colLabels=column_headers,\n",
    "                      loc='center')\n",
    "\n",
    "# Scaling is the only influence we have over top and bottom cell padding.\n",
    "# Make the rows taller (i.e., make cell y scale larger).\n",
    "the_table.scale(1, 2)\n",
    "\n",
    "# Hide axes\n",
    "ax = plt.gca()\n",
    "ax.get_xaxis().set_visible(False)\n",
    "ax.get_yaxis().set_visible(False)\n",
    "\n",
    "# Hide axes border\n",
    "plt.box(on=None)"
   ]
  },
  {
   "cell_type": "code",
   "execution_count": 6,
   "id": "44a08e74",
   "metadata": {
    "scrolled": true
   },
   "outputs": [
    {
     "name": "stdout",
     "output_type": "stream",
     "text": [
      "Test error: 4.238926155410416\n"
     ]
    }
   ],
   "source": [
    "# test error for linear\n",
    "regr = LinearRegression()\n",
    "regr.fit(X_test, y_test)\n",
    "y_test_pred = regr.predict(X_test)\n",
    "test_error = mean_squared_error(y_test, y_test_pred)\n",
    "\n",
    "print(f\"Test error: {test_error}\")"
   ]
  },
  {
   "cell_type": "code",
   "execution_count": 7,
   "id": "83171c36",
   "metadata": {},
   "outputs": [],
   "source": [
    "# polynomial regression\n",
    "lin_regr = LinearRegression(fit_intercept=False)\n",
    "tr_errors = []\n",
    "val_errors = []\n",
    "\n",
    "for i in range(2, 11):\n",
    "    poly = PolynomialFeatures(i)\n",
    "    \n",
    "    # training set\n",
    "    X_train_poly = poly.fit_transform(X_train)\n",
    "    lin_regr.fit(X_train_poly, y_train)\n",
    "    y_train_pred = lin_regr.predict(X_train_poly)\n",
    "    tr_errors.append(mean_squared_error(y_train, y_train_pred))\n",
    "    \n",
    "    # validation set\n",
    "    X_val_poly = poly.fit_transform(X_val)\n",
    "    y_val_pred = lin_regr.predict(X_val_poly)\n",
    "    val_errors.append(mean_squared_error(y_val, y_val_pred))"
   ]
  },
  {
   "cell_type": "code",
   "execution_count": 8,
   "id": "fc666c71",
   "metadata": {
    "scrolled": true
   },
   "outputs": [
    {
     "data": {
      "image/png": "[encoded data removed]",
      "text/plain": [
       "<Figure size 432x288 with 1 Axes>"
      ]
     },
     "metadata": {
      "needs_background": "light"
     },
     "output_type": "display_data"
    }
   ],
   "source": [
    "# table for polynomial\n",
    "\n",
    "data = [['Degree', 'Training errors', 'Validation errors']]\n",
    "for i in range(2,11):\n",
    "    data.append([str(i), str(tr_errors[i-2]), str(val_errors[i-2])])\n",
    "\n",
    "column_headers = data.pop(0)\n",
    "\n",
    "the_table = plt.table(cellText=data,\n",
    "                      rowLabels=None,\n",
    "                      rowLoc='right',\n",
    "                      colLabels=column_headers,\n",
    "                      loc='center')\n",
    "\n",
    "the_table.scale(1, 2)\n",
    "\n",
    "ax = plt.gca()\n",
    "ax.get_xaxis().set_visible(False)\n",
    "ax.get_yaxis().set_visible(False)\n",
    "\n",
    "plt.box(on=None)"
   ]
  },
  {
   "cell_type": "code",
   "execution_count": 9,
   "id": "e240a42d",
   "metadata": {
    "scrolled": true
   },
   "outputs": [
    {
     "name": "stdout",
     "output_type": "stream",
     "text": [
      "Test error: 3.2800957975281633\n"
     ]
    }
   ],
   "source": [
    "#test error for best degree of polynomial\n",
    "lin_regr = LinearRegression(fit_intercept=False)\n",
    "poly = PolynomialFeatures(3)\n",
    "X_test_poly = poly.fit_transform(X_test)\n",
    "lin_regr.fit(X_test_poly, y_test)\n",
    "y_test_pred = lin_regr.predict(X_test_poly)\n",
    "test_error = mean_squared_error(y_test, y_test_pred)\n",
    "\n",
    "print(f\"Test error: {test_error}\")"
   ]
  },
  {
   "cell_type": "code",
   "execution_count": 10,
   "id": "01c4c83a",
   "metadata": {},
   "outputs": [
    {
     "data": {
      "image/png": "[encoded data removed]",
      "text/plain": [
       "<Figure size 432x288 with 1 Axes>"
      ]
     },
     "metadata": {
      "needs_background": "light"
     },
     "output_type": "display_data"
    }
   ],
   "source": [
    "# data scatter plot\n",
    "plt.scatter(X[:,0], y, s=8)\n",
    "plt.scatter(X[:,1], y, s=8)\n",
    "plt.xlim([0,100])\n",
    "plt.ylim([0,30])\n",
    "plt.legend(['shots', 'shots on target'], loc='upper left')\n",
    "plt.title('Dataset')\n",
    "plt.xlabel('Shots/shots on target')\n",
    "plt.ylabel('Goals')\n",
    "plt.show()"
   ]
  }
 ],
 "metadata": {
  "kernelspec": {
   "display_name": "Python 3",
   "language": "python",
   "name": "python3"
  },
  "language_info": {
   "codemirror_mode": {
    "name": "ipython",
    "version": 3
   },
   "file_extension": ".py",
   "mimetype": "text/x-python",
   "name": "python",
   "nbconvert_exporter": "python",
   "pygments_lexer": "ipython3",
   "version": "3.9.5"
  },
  "varInspector": {
   "cols": {
    "lenName": 16,
    "lenType": 16,
    "lenVar": 40
   },
   "kernels_config": {
    "python": {
     "delete_cmd_postfix": "",
     "delete_cmd_prefix": "del ",
     "library": "var_list.py",
     "varRefreshCmd": "print(var_dic_list())"
    },
    "r": {
     "delete_cmd_postfix": ") ",
     "delete_cmd_prefix": "rm(",
     "library": "var_list.r",
     "varRefreshCmd": "cat(var_dic_list()) "
    }
   },
   "types_to_exclude": [
    "module",
    "function",
    "builtin_function_or_method",
    "instance",
    "_Feature"
   ],
   "window_display": false
  }
 },
 "nbformat": 4,
 "nbformat_minor": 5
}
